{
 "cells": [
  {
   "cell_type": "code",
   "execution_count": 1,
   "id": "cfb3c461",
   "metadata": {},
   "outputs": [],
   "source": [
    "# Провести дисперсионный анализ для определения того, есть ли различия среднего\n",
    "# роста среди взрослых футболистов, хоккеистов и штангистов.\n",
    "\n",
    "import numpy as np\n",
    "import pandas as pd\n",
    "from scipy import stats\n",
    "import matplotlib as plt\n"
   ]
  },
  {
   "cell_type": "code",
   "execution_count": 10,
   "id": "6d4a097e",
   "metadata": {},
   "outputs": [
    {
     "data": {
      "text/plain": [
       "array([ 72, 173, 169, 177, 166, 180, 178, 177, 172, 166, 170])"
      ]
     },
     "execution_count": 10,
     "metadata": {},
     "output_type": "execute_result"
    }
   ],
   "source": [
    "fb=[173, 175, 180, 178, 177, 185, 183, 182]\n",
    "hk=[177, 179, 180, 188, 177, 172, 171, 184, 180]\n",
    "sht=[72, 173, 169, 177, 166, 180, 178, 177, 172, 166, 170]\n",
    "np.array(fb)\n",
    "np.array(hk)\n",
    "np.array(sht)"
   ]
  },
  {
   "cell_type": "code",
   "execution_count": 3,
   "id": "fade410d",
   "metadata": {},
   "outputs": [
    {
     "data": {
      "text/plain": [
       "28"
      ]
     },
     "execution_count": 3,
     "metadata": {},
     "output_type": "execute_result"
    }
   ],
   "source": [
    "k=3\n",
    "n=len(fb)+len(hk)+len(sht)\n",
    "n"
   ]
  },
  {
   "cell_type": "code",
   "execution_count": 4,
   "id": "e318154e",
   "metadata": {},
   "outputs": [
    {
     "data": {
      "text/plain": [
       "(179.125, 178.66666666666666, 163.63636363636363)"
      ]
     },
     "execution_count": 4,
     "metadata": {},
     "output_type": "execute_result"
    }
   ],
   "source": [
    "# найдем средние значения:\n",
    "fb_mean=np.mean(fb)\n",
    "hk_mean=np.mean(hk)\n",
    "sht_mean=np.mean(sht)\n",
    "fb_mean, hk_mean, sht_mean"
   ]
  },
  {
   "cell_type": "code",
   "execution_count": 31,
   "id": "f2e21287",
   "metadata": {},
   "outputs": [],
   "source": [
    "total=fb+hk+sht"
   ]
  },
  {
   "cell_type": "code",
   "execution_count": 18,
   "id": "be7a11d7",
   "metadata": {},
   "outputs": [
    {
     "data": {
      "text/plain": [
       "array([173, 175, 180, 178, 177, 185, 183, 182, 177, 179, 180, 188, 177,\n",
       "       172, 171, 184, 180,  72, 173, 169, 177, 166, 180, 178, 177, 172,\n",
       "       166, 170])"
      ]
     },
     "execution_count": 18,
     "metadata": {},
     "output_type": "execute_result"
    }
   ],
   "source": [
    "np.array(total)"
   ]
  },
  {
   "cell_type": "code",
   "execution_count": 21,
   "id": "b4109ebf",
   "metadata": {},
   "outputs": [
    {
     "data": {
      "text/plain": [
       "172.89285714285714"
      ]
     },
     "execution_count": 21,
     "metadata": {},
     "output_type": "execute_result"
    }
   ],
   "source": [
    "# найдем общее среднее\n",
    "total_mean=np.mean(total)\n",
    "total_mean"
   ]
  },
  {
   "cell_type": "code",
   "execution_count": 37,
   "id": "d845f65b",
   "metadata": {},
   "outputs": [
    {
     "data": {
      "text/plain": [
       "11366.67857142857"
      ]
     },
     "execution_count": 37,
     "metadata": {},
     "output_type": "execute_result"
    }
   ],
   "source": [
    "# сумма квадратов отклонений наблюдения от общего среднего\n",
    "total_sum=np.sum((total-total_mean)**2)\n",
    "total_sum"
   ]
  },
  {
   "cell_type": "code",
   "execution_count": 36,
   "id": "29834dba",
   "metadata": {},
   "outputs": [
    {
     "data": {
      "text/plain": [
       "1553.258116883118"
      ]
     },
     "execution_count": 36,
     "metadata": {},
     "output_type": "execute_result"
    }
   ],
   "source": [
    "# сумма квадратов отклонений наблюдения средних групповых значений от общего среднего\n",
    "sum=np.sum((fb_mean-total_mean)**2)*len(fb)+np.sum((hk_mean-total_mean)**2*len(hk))+np.sum((sht_mean-total_mean)**2*len(sht))\n",
    "sum"
   ]
  },
  {
   "cell_type": "code",
   "execution_count": 39,
   "id": "aa296f81",
   "metadata": {},
   "outputs": [
    {
     "data": {
      "text/plain": [
       "9813.420454545454"
      ]
     },
     "execution_count": 39,
     "metadata": {},
     "output_type": "execute_result"
    }
   ],
   "source": [
    "# найдем остаточную сумму квадратов отклонений\n",
    "ost_sum=np.sum((fb-fb_mean)**2)+np.sum((hk-hk_mean)**2)+np.sum((sht-sht_mean)**2)\n",
    "ost_sum\n"
   ]
  },
  {
   "cell_type": "code",
   "execution_count": 42,
   "id": "71677692",
   "metadata": {},
   "outputs": [
    {
     "data": {
      "text/plain": [
       "5683.339285714285"
      ]
     },
     "execution_count": 42,
     "metadata": {},
     "output_type": "execute_result"
    }
   ],
   "source": [
    "# найдем факторную дисперсию\n",
    "d_fact=total_sum/(k-1)\n",
    "d_fact"
   ]
  },
  {
   "cell_type": "code",
   "execution_count": 41,
   "id": "89c4ba1a",
   "metadata": {},
   "outputs": [
    {
     "data": {
      "text/plain": [
       "392.53681818181815"
      ]
     },
     "execution_count": 41,
     "metadata": {},
     "output_type": "execute_result"
    }
   ],
   "source": [
    "# найдем остаточную дисперсию\n",
    "d_ost=ost_sum/(n-k)\n",
    "d_ost"
   ]
  },
  {
   "cell_type": "code",
   "execution_count": 44,
   "id": "6924ef9f",
   "metadata": {},
   "outputs": [
    {
     "data": {
      "text/plain": [
       "14.478487169786538"
      ]
     },
     "execution_count": 44,
     "metadata": {},
     "output_type": "execute_result"
    }
   ],
   "source": [
    "# найдем критерий фишера\n",
    "F=d_fact/d_ost\n",
    "F"
   ]
  },
  {
   "cell_type": "code",
   "execution_count": 47,
   "id": "ed2206ee",
   "metadata": {},
   "outputs": [
    {
     "data": {
      "text/plain": [
       "F_onewayResult(statistic=1.9784871697865385, pvalue=0.15934386331661873)"
      ]
     },
     "execution_count": 47,
     "metadata": {},
     "output_type": "execute_result"
    }
   ],
   "source": [
    "#  табличный критерий Фишера 3.38 (кол-во степеней свободы (k-1=2), (n-k=28-3=25)\n",
    "# наблюдаемое значение 14.48, табличное (критиеское) = 3.38 Вывод: нулевую гипотезу не принимаем (различия есть)\n",
    "# проверим тестом: вывод подтверждается. статистически наблюдаемое значение больше p-val\n",
    "f=stats.f_oneway(fb, hk, sht)\n",
    "f"
   ]
  },
  {
   "cell_type": "code",
   "execution_count": null,
   "id": "688087e5",
   "metadata": {},
   "outputs": [],
   "source": []
  },
  {
   "cell_type": "code",
   "execution_count": null,
   "id": "40f2c093",
   "metadata": {},
   "outputs": [],
   "source": []
  }
 ],
 "metadata": {
  "kernelspec": {
   "display_name": "Python 3 (ipykernel)",
   "language": "python",
   "name": "python3"
  },
  "language_info": {
   "codemirror_mode": {
    "name": "ipython",
    "version": 3
   },
   "file_extension": ".py",
   "mimetype": "text/x-python",
   "name": "python",
   "nbconvert_exporter": "python",
   "pygments_lexer": "ipython3",
   "version": "3.9.13"
  }
 },
 "nbformat": 4,
 "nbformat_minor": 5
}
