{
 "cells": [
  {
   "cell_type": "code",
   "execution_count": 1,
   "id": "3eacf3f9",
   "metadata": {},
   "outputs": [],
   "source": [
    "# Провести дисперсионный анализ для определения того, есть ли различия среднего\n",
    "# роста среди взрослых футболистов, хоккеистов и штангистов.\n",
    "\n",
    "import numpy as np\n",
    "import pandas as pd\n",
    "from scipy import stats\n",
    "import matplotlib as plt\n"
   ]
  },
  {
   "cell_type": "code",
   "execution_count": 10,
   "id": "1c65dad5",
   "metadata": {},
   "outputs": [
    {
     "data": {
      "text/plain": [
       "array([ 72, 173, 169, 177, 166, 180, 178, 177, 172, 166, 170])"
      ]
     },
     "execution_count": 10,
     "metadata": {},
     "output_type": "execute_result"
    }
   ],
   "source": [
    "fb=[173, 175, 180, 178, 177, 185, 183, 182]\n",
    "hk=[177, 179, 180, 188, 177, 172, 171, 184, 180]\n",
    "sht=[72, 173, 169, 177, 166, 180, 178, 177, 172, 166, 170]\n",
    "np.array(fb)\n",
    "np.array(hk)\n",
    "np.array(sht)"
   ]
  },
  {
   "cell_type": "code",
   "execution_count": 3,
   "id": "d75ddc8d",
   "metadata": {},
   "outputs": [
    {
     "data": {
      "text/plain": [
       "28"
      ]
     },
     "execution_count": 3,
     "metadata": {},
     "output_type": "execute_result"
    }
   ],
   "source": [
    "k=3\n",
    "n=len(fb)+len(hk)+len(sht)\n",
    "n"
   ]
  },
  {
   "cell_type": "code",
   "execution_count": 4,
   "id": "ec4f06c5",
   "metadata": {},
   "outputs": [
    {
     "data": {
      "text/plain": [
       "(179.125, 178.66666666666666, 163.63636363636363)"
      ]
     },
     "execution_count": 4,
     "metadata": {},
     "output_type": "execute_result"
    }
   ],
   "source": [
    "# найдем средние значения:\n",
    "fb_mean=np.mean(fb)\n",
    "hk_mean=np.mean(hk)\n",
    "sht_mean=np.mean(sht)\n",
    "fb_mean, hk_mean, sht_mean"
   ]
  },
  {
   "cell_type": "code",
   "execution_count": 20,
   "id": "f3b631e9",
   "metadata": {},
   "outputs": [],
   "source": [
    "total=fb+hk+sht"
   ]
  },
  {
   "cell_type": "code",
   "execution_count": 18,
   "id": "24cda1c1",
   "metadata": {},
   "outputs": [
    {
     "data": {
      "text/plain": [
       "array([173, 175, 180, 178, 177, 185, 183, 182, 177, 179, 180, 188, 177,\n",
       "       172, 171, 184, 180,  72, 173, 169, 177, 166, 180, 178, 177, 172,\n",
       "       166, 170])"
      ]
     },
     "execution_count": 18,
     "metadata": {},
     "output_type": "execute_result"
    }
   ],
   "source": [
    "np.array(total)"
   ]
  },
  {
   "cell_type": "code",
   "execution_count": 19,
   "id": "376e2f65",
   "metadata": {},
   "outputs": [],
   "source": [
    "# найдем общее среднее\n",
    "total_mean=np.mean(total)"
   ]
  },
  {
   "cell_type": "code",
   "execution_count": null,
   "id": "86e6cf32",
   "metadata": {},
   "outputs": [],
   "source": []
  }
 ],
 "metadata": {
  "kernelspec": {
   "display_name": "Python 3 (ipykernel)",
   "language": "python",
   "name": "python3"
  },
  "language_info": {
   "codemirror_mode": {
    "name": "ipython",
    "version": 3
   },
   "file_extension": ".py",
   "mimetype": "text/x-python",
   "name": "python",
   "nbconvert_exporter": "python",
   "pygments_lexer": "ipython3",
   "version": "3.9.13"
  }
 },
 "nbformat": 4,
 "nbformat_minor": 5
}
