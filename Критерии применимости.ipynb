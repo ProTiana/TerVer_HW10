{
 "cells": [
  {
   "cell_type": "code",
   "execution_count": 1,
   "id": "3343e309",
   "metadata": {},
   "outputs": [],
   "source": [
    "import numpy as np\n",
    "import pandas as pd\n",
    "from scipy import stats\n",
    "import matplotlib as plt\n",
    "from statsmodels.stats.multicomp import pairwise_tukeyhsd"
   ]
  },
  {
   "cell_type": "code",
   "execution_count": 2,
   "id": "410c97d7",
   "metadata": {},
   "outputs": [],
   "source": [
    "fb=np.array([173, 175, 180, 178, 177, 185, 183, 182])\n",
    "hk=np.array([177, 179, 180, 188, 177, 172, 171, 184, 180])\n",
    "sht=np.array([72, 173, 169, 177, 166, 180, 178, 177, 172, 166, 170])"
   ]
  },
  {
   "cell_type": "code",
   "execution_count": 5,
   "id": "4263aaea",
   "metadata": {},
   "outputs": [
    {
     "data": {
      "text/plain": [
       "ShapiroResult(statistic=0.9775082468986511, pvalue=0.9495404362678528)"
      ]
     },
     "execution_count": 5,
     "metadata": {},
     "output_type": "execute_result"
    }
   ],
   "source": [
    "stats.shapiro(fb) #normal нулевая гипотеза не отвергается"
   ]
  },
  {
   "cell_type": "code",
   "execution_count": 6,
   "id": "40fa7a24",
   "metadata": {},
   "outputs": [
    {
     "data": {
      "text/plain": [
       "ShapiroResult(statistic=0.9579196572303772, pvalue=0.7763139009475708)"
      ]
     },
     "execution_count": 6,
     "metadata": {},
     "output_type": "execute_result"
    }
   ],
   "source": [
    "stats.shapiro(hk) #normal нулевая гипотеза не отвергается"
   ]
  },
  {
   "cell_type": "code",
   "execution_count": 7,
   "id": "8eae51a6",
   "metadata": {},
   "outputs": [
    {
     "data": {
      "text/plain": [
       "ShapiroResult(statistic=0.49281179904937744, pvalue=1.2422458439687034e-06)"
      ]
     },
     "execution_count": 7,
     "metadata": {},
     "output_type": "execute_result"
    }
   ],
   "source": [
    "stats.shapiro(sht) #normal нулевая гипотеза не отвергается"
   ]
  },
  {
   "cell_type": "code",
   "execution_count": 8,
   "id": "6e83b586",
   "metadata": {},
   "outputs": [
    {
     "data": {
      "text/plain": [
       "BartlettResult(statistic=32.39205244920702, pvalue=9.250286456812272e-08)"
      ]
     },
     "execution_count": 8,
     "metadata": {},
     "output_type": "execute_result"
    }
   ],
   "source": [
    "stats.bartlett(fb, hk, sht) #дисперсии равны"
   ]
  },
  {
   "cell_type": "code",
   "execution_count": null,
   "id": "7508c14f",
   "metadata": {},
   "outputs": [],
   "source": []
  }
 ],
 "metadata": {
  "kernelspec": {
   "display_name": "Python 3 (ipykernel)",
   "language": "python",
   "name": "python3"
  },
  "language_info": {
   "codemirror_mode": {
    "name": "ipython",
    "version": 3
   },
   "file_extension": ".py",
   "mimetype": "text/x-python",
   "name": "python",
   "nbconvert_exporter": "python",
   "pygments_lexer": "ipython3",
   "version": "3.9.13"
  }
 },
 "nbformat": 4,
 "nbformat_minor": 5
}
